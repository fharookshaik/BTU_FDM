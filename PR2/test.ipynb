{
 "cells": [
  {
   "cell_type": "code",
   "execution_count": 1,
   "metadata": {},
   "outputs": [],
   "source": [
    "import numpy as np\n",
    "from sklearn.model_selection import train_test_split\n",
    "from sklearn.preprocessing import StandardScaler\n",
    "from sklearn import datasets\n",
    "from collections import Counter"
   ]
  },
  {
   "cell_type": "code",
   "execution_count": 2,
   "metadata": {},
   "outputs": [],
   "source": [
    "iris = datasets.load_iris()\n",
    "X = iris['data']\n",
    "y = iris['target']\n",
    "\n",
    "X_train, X_test, y_train, y_test = train_test_split(X,y,test_size=0.2)"
   ]
  },
  {
   "cell_type": "code",
   "execution_count": 3,
   "metadata": {},
   "outputs": [],
   "source": [
    "def most_common(lst):\n",
    "    return max(set(lst), key=lst.count)"
   ]
  },
  {
   "cell_type": "code",
   "execution_count": 4,
   "metadata": {},
   "outputs": [],
   "source": [
    "def euclidean_distance(point, data):\n",
    "    return np.sqrt(np.sum(point - data)** 2)"
   ]
  },
  {
   "cell_type": "code",
   "execution_count": 6,
   "metadata": {},
   "outputs": [],
   "source": [
    "class KNNClassifier:\n",
    "    def __init__(self,k=5):\n",
    "        self.k = k\n",
    "        self.X_train = None\n",
    "        self.y_train = None\n",
    "\n",
    "    def fit(self,X,y):\n",
    "        self.X_train = X\n",
    "        self.y_train = y\n",
    "    \n",
    "    def _compute_distances(self, X_test):\n",
    "        distances = []\n",
    "        n_test = X_test.shape[0]\n",
    "        n_train = self.X_train.shape[0]\n",
    "        distances = np.zeros((n_test, n_train))\n",
    "        for i in range(n_test):\n",
    "            for j in range(n_train):\n",
    "                distances[i,j] = np.sqrt(np.sum((X_test[i] - self.X_train[j]) ** 2))\n",
    "        return distances\n",
    "\n",
    "    def predict(self, X_test):\n",
    "        distances = self._compute_distances(X_test)\n",
    "        k_neighbours_indices = np.argsort(distances, axis=1)[:, :self.k]\n",
    "        k_neighbours_labels = self.y_train[k_neighbours_indices]\n",
    "        predictions = [Counter(neighbours).most_common(1)[0][0] for neighbours in k_neighbours_labels]\n",
    "        return np.array(predictions)\n",
    "\n",
    "    def score(self, X_test, y_test):\n",
    "        predictions = self.predict(X_test)\n",
    "        accuracy = np.mean(predictions == y_test)\n",
    "        return accuracy\n",
    "       "
   ]
  },
  {
   "cell_type": "code",
   "execution_count": null,
   "metadata": {},
   "outputs": [],
   "source": [
    "knn_classifier = KNNClassifier()\n",
    "knn_classifier.fit(X=X_train,y=y_train)\n",
    "knn_classifier.score(X_test=X_test, y_test=y_test)"
   ]
  },
  {
   "cell_type": "code",
   "execution_count": null,
   "metadata": {},
   "outputs": [],
   "source": [
    "from sklearn import neighbors\n",
    "\n",
    "knn_classifier_sklearn = neighbors.KNeighborsClassifier()\n",
    "knn_classifier_sklearn.fit(X=X_train, y=y_train)\n",
    "knn_classifier_sklearn.score(X=X_test, y=y_test)\n",
    "knn_classifier_sklearn_labels = knn_classifier_sklearn.predict(X_test)"
   ]
  },
  {
   "cell_type": "code",
   "execution_count": null,
   "metadata": {},
   "outputs": [],
   "source": []
  },
  {
   "cell_type": "code",
   "execution_count": null,
   "metadata": {},
   "outputs": [],
   "source": [
    "from sklearn import datasets\n",
    "from sklearn.model_selection import train_test_split\n",
    "\n",
    "breast_cancer = datasets.load_breast_cancer()\n",
    "breast_cancer"
   ]
  },
  {
   "cell_type": "code",
   "execution_count": 12,
   "metadata": {},
   "outputs": [],
   "source": [
    "X = breast_cancer['data']\n",
    "y = breast_cancer['target']\n",
    "\n",
    "X_train, X_test, y_train, y_test = train_test_split(X,y,test_size=0.2,stratify=y)"
   ]
  },
  {
   "cell_type": "code",
   "execution_count": null,
   "metadata": {},
   "outputs": [],
   "source": [
    "from algorithms import CustomKNNClassifier as KNNClassifier\n",
    "\n",
    "knn_classifier = KNNClassifier(k=3)\n",
    "knn_classifier.fit(X=X_train, y=y_train)\n",
    "y_pred = knn_classifier.predict(X_test=X_test)"
   ]
  },
  {
   "cell_type": "code",
   "execution_count": null,
   "metadata": {},
   "outputs": [],
   "source": [
    "knn_classifier.score(X_test=X_test, y_test=y_test)"
   ]
  },
  {
   "cell_type": "code",
   "execution_count": 14,
   "metadata": {},
   "outputs": [],
   "source": [
    "import pandas as pd\n",
    "from sklearn.metrics import confusion_matrix"
   ]
  },
  {
   "cell_type": "code",
   "execution_count": null,
   "metadata": {},
   "outputs": [],
   "source": [
    "y_test, y_pred"
   ]
  },
  {
   "cell_type": "code",
   "execution_count": 16,
   "metadata": {},
   "outputs": [],
   "source": [
    "confusion_matrix = confusion_matrix(y_test, y_pred)"
   ]
  },
  {
   "cell_type": "code",
   "execution_count": null,
   "metadata": {},
   "outputs": [],
   "source": [
    "confusion_matrix"
   ]
  },
  {
   "cell_type": "code",
   "execution_count": null,
   "metadata": {},
   "outputs": [],
   "source": []
  },
  {
   "cell_type": "code",
   "execution_count": 18,
   "metadata": {},
   "outputs": [],
   "source": [
    "from sklearn.naive_bayes import GaussianNB\n",
    "\n",
    "gnb = GaussianNB()\n",
    "y_pred_gnb = gnb.fit(X_train, y_train).predict(X_test)"
   ]
  },
  {
   "cell_type": "code",
   "execution_count": null,
   "metadata": {},
   "outputs": [],
   "source": [
    "gnb.score(X_train, y_train)"
   ]
  },
  {
   "cell_type": "code",
   "execution_count": null,
   "metadata": {},
   "outputs": [],
   "source": [
    "from sklearn.metrics import confusion_matrix\n",
    "\n",
    "confusion_matrix(y_test, y_pred_gnb)"
   ]
  },
  {
   "cell_type": "code",
   "execution_count": null,
   "metadata": {},
   "outputs": [],
   "source": []
  },
  {
   "cell_type": "code",
   "execution_count": 26,
   "metadata": {},
   "outputs": [],
   "source": [
    "from sklearn.tree import DecisionTreeClassifier, plot_tree\n",
    "\n",
    "dt_classifier = DecisionTreeClassifier()\n",
    "dt_classifier = dt_classifier.fit(X_train,y_train)\n",
    "y_pred_dt_classifier = dt_classifier.predict(X_test)"
   ]
  },
  {
   "cell_type": "code",
   "execution_count": null,
   "metadata": {},
   "outputs": [],
   "source": [
    "plot_tree(dt_classifier)"
   ]
  },
  {
   "cell_type": "code",
   "execution_count": null,
   "metadata": {},
   "outputs": [],
   "source": [
    "y_test, y_pred_dt_classifier"
   ]
  },
  {
   "cell_type": "code",
   "execution_count": null,
   "metadata": {},
   "outputs": [],
   "source": []
  },
  {
   "cell_type": "code",
   "execution_count": null,
   "metadata": {},
   "outputs": [],
   "source": []
  },
  {
   "cell_type": "code",
   "execution_count": 1,
   "metadata": {},
   "outputs": [],
   "source": [
    "import time\n",
    "import numpy as np\n",
    "import pandas as pd\n",
    "import matplotlib.pyplot as plt\n",
    "from sklearn.model_selection import train_test_split\n",
    "from sklearn.metrics import accuracy_score, confusion_matrix, ConfusionMatrixDisplay\n",
    "\n",
    "from ucimlrepo import fetch_ucirepo\n",
    "\n",
    "# Models Import\n",
    "from algorithms import CustomKNNClassifier\n",
    "from sklearn.neighbors import KNeighborsClassifier\n",
    "from sklearn.naive_bayes import GaussianNB"
   ]
  },
  {
   "cell_type": "code",
   "execution_count": 2,
   "metadata": {},
   "outputs": [],
   "source": [
    "# KNN Classifier pre-requisites\n",
    "\n",
    "k = 5\n",
    "metric = 'euclidean'"
   ]
  },
  {
   "cell_type": "code",
   "execution_count": 3,
   "metadata": {},
   "outputs": [],
   "source": [
    "dataset_dict = {\n",
    "    0 : {\n",
    "        'label' : 'd1',\n",
    "        'name' : 'Breast Cancer',\n",
    "        'data' : fetch_ucirepo(id=17)\n",
    "    },\n",
    "    1 : {\n",
    "        'label' : 'd2',\n",
    "        'name' : 'Wine Quality',\n",
    "        'data' : fetch_ucirepo(id=186)\n",
    "    },\n",
    "    2 : {\n",
    "        'label' : 'd3',\n",
    "        'name' : 'iris',\n",
    "        'data' : fetch_ucirepo(id=53)\n",
    "    }\n",
    "}\n",
    "\n",
    "classifiers = {\n",
    "    0 : {\n",
    "        'label' : 'c1',\n",
    "        'name' : 'CustomKNNClassifier',\n",
    "        'model' : CustomKNNClassifier(k=k, metric=metric),\n",
    "    },\n",
    "    1 : {\n",
    "        'label' : 'c2',\n",
    "        'name' : 'KNeighboursClassifier',\n",
    "        'model' : KNeighborsClassifier(n_neighbors=k, metric=metric)\n",
    "    },\n",
    "    2 : {\n",
    "        'label' : 'c3',\n",
    "        'name' : 'GaussianNB',\n",
    "        'model' : GaussianNB()\n",
    "    }\n",
    "}"
   ]
  },
  {
   "cell_type": "code",
   "execution_count": 4,
   "metadata": {},
   "outputs": [
    {
     "data": {
      "text/plain": [
       "(array([1.799e+01, 1.038e+01, 1.228e+02, 1.001e+03, 1.184e-01, 2.776e-01,\n",
       "        3.001e-01, 1.471e-01, 2.419e-01, 7.871e-02, 1.095e+00, 9.053e-01,\n",
       "        8.589e+00, 1.534e+02, 6.399e-03, 4.904e-02, 5.373e-02, 1.587e-02,\n",
       "        3.003e-02, 6.193e-03, 2.538e+01, 1.733e+01, 1.846e+02, 2.019e+03,\n",
       "        1.622e-01, 6.656e-01, 7.119e-01, 2.654e-01, 4.601e-01, 1.189e-01]),\n",
       " 0)"
      ]
     },
     "execution_count": 4,
     "metadata": {},
     "output_type": "execute_result"
    }
   ],
   "source": [
    "from sklearn import datasets\n",
    "\n",
    "test_data = datasets.load_breast_cancer()\n",
    "X = test_data['data']\n",
    "y = test_data['target']\n",
    "\n",
    "X[0], y[0]"
   ]
  },
  {
   "cell_type": "code",
   "execution_count": 5,
   "metadata": {},
   "outputs": [
    {
     "name": "stdout",
     "output_type": "stream",
     "text": [
      "Model -  CustomKNNClassifier  | Dataset -  Breast Cancer\n",
      "Accuracy -  0.8859649122807017\n",
      "Training time -  2.1457672119140625e-06\n",
      "Prediction time -  0.1716759204864502\n",
      "Confusion Matrix -  [[66  2]\n",
      " [11 35]]\n",
      "--------------------------------------------------\n",
      "Model -  KNeighboursClassifier  | Dataset -  Breast Cancer\n",
      "Accuracy -  0.8859649122807017\n",
      "Training time -  0.0004019737243652344\n",
      "Prediction time -  0.027029037475585938\n",
      "Confusion Matrix -  [[66  2]\n",
      " [11 35]]\n",
      "--------------------------------------------------\n",
      "Model -  GaussianNB  | Dataset -  Breast Cancer\n",
      "Accuracy -  0.9210526315789473\n",
      "Training time -  0.0005440711975097656\n",
      "Prediction time -  9.393692016601562e-05\n",
      "Confusion Matrix -  [[67  1]\n",
      " [ 8 38]]\n",
      "--------------------------------------------------\n",
      "Model -  CustomKNNClassifier  | Dataset -  Wine Quality\n",
      "Accuracy -  0.5007692307692307\n",
      "Training time -  4.76837158203125e-06\n",
      "Prediction time -  15.92990517616272\n",
      "Confusion Matrix -  [[  0   0   4   3   0   0]\n",
      " [  0   1  21  17   2   0]\n",
      " [  0   4 233 175  22   3]\n",
      " [  0   5 134 340  64   9]\n",
      " [  0   1  25 125  73   1]\n",
      " [  0   1   3  22   8   4]]\n",
      "--------------------------------------------------\n",
      "Model -  KNeighboursClassifier  | Dataset -  Wine Quality\n",
      "Accuracy -  0.48615384615384616\n",
      "Training time -  0.0015339851379394531\n",
      "Prediction time -  0.0173799991607666\n",
      "Confusion Matrix -  [[  0   0   4   3   0   0]\n",
      " [  0   2  24  13   2   0]\n",
      " [  0   8 248 163  15   3]\n",
      " [  0  15 157 323  50   7]\n",
      " [  0   2  38 130  55   0]\n",
      " [  0   1   4  22   7   4]]\n",
      "--------------------------------------------------\n",
      "Model -  GaussianNB  | Dataset -  Wine Quality\n",
      "Accuracy -  0.4776923076923077\n",
      "Training time -  0.0009579658508300781\n",
      "Prediction time -  0.0003161430358886719\n",
      "Confusion Matrix -  [[  1   3   2   0   1   0   0]\n",
      " [  0   3  19  17   2   0   0]\n",
      " [  1  25 260 131  20   0   0]\n",
      " [  2  19 160 243 125   3   0]\n",
      " [  1   1  27  76 114   5   1]\n",
      " [  0   0   3   9  26   0   0]\n",
      " [  0   0   0   0   0   0   0]]\n",
      "--------------------------------------------------\n",
      "Model -  CustomKNNClassifier  | Dataset -  iris\n",
      "Accuracy -  1.0\n",
      "Training time -  0.0\n",
      "Prediction time -  0.008321046829223633\n",
      "Confusion Matrix -  [[ 9  0  0]\n",
      " [ 0 11  0]\n",
      " [ 0  0 10]]\n",
      "--------------------------------------------------\n",
      "Model -  KNeighboursClassifier  | Dataset -  iris\n",
      "Accuracy -  1.0\n",
      "Training time -  0.00021719932556152344\n",
      "Prediction time -  0.0008158683776855469\n",
      "Confusion Matrix -  [[ 9  0  0]\n",
      " [ 0 11  0]\n",
      " [ 0  0 10]]\n",
      "--------------------------------------------------\n",
      "Model -  GaussianNB  | Dataset -  iris\n",
      "Accuracy -  0.9666666666666667\n",
      "Training time -  0.00035190582275390625\n",
      "Prediction time -  8.487701416015625e-05\n",
      "Confusion Matrix -  [[ 9  0  0]\n",
      " [ 0 11  0]\n",
      " [ 0  1  9]]\n",
      "--------------------------------------------------\n"
     ]
    }
   ],
   "source": [
    "for _, dataset in dataset_dict.items():\n",
    "    X = dataset['data'].data.features.to_numpy()\n",
    "    y = dataset['data'].data.targets.to_numpy().flatten()\n",
    "\n",
    "    # print(X[0], y[0])\n",
    "    # print(type(X), type(y))\n",
    "    # print(X.shape, y.shape)\n",
    "    X_train, X_test, y_train, y_test = train_test_split(X, y, test_size=0.2)\n",
    "\n",
    "    for _ , classifer in classifiers.items():\n",
    "\n",
    "        model = classifer['model']\n",
    "\n",
    "        start_train = time.time()\n",
    "        model = model.fit(X_train, y_train)\n",
    "        train_time = time.time() - start_train\n",
    "\n",
    "        start_predict = time.time()\n",
    "        y_pred = model.predict(X_test)\n",
    "        predict_time = time.time() - start_predict\n",
    "\n",
    "        accuracy = accuracy_score(y_true=y_test, y_pred=y_pred)\n",
    "        conf_matrix = confusion_matrix(y_true=y_test, y_pred=y_pred)\n",
    "        \n",
    "        df = pd.DataFrame(conf_matrix,\n",
    "                          index=[f'Actual_{i}' for i in range(conf_matrix.shape[0])],\n",
    "                          columns=[f'Predicted_{i}' for i in range(conf_matrix.shape[1])])\n",
    "        \n",
    "        df.to_csv(f'results/g018_{dataset['label']}_{classifer['label']}.csv')\n",
    "\n",
    "        print('Model - ', classifer['name'], ' | Dataset - ', dataset['name'])\n",
    "        print('Accuracy - ', accuracy)\n",
    "        print('Training time - ', train_time)\n",
    "        print('Prediction time - ', predict_time)\n",
    "        print(f'Confusion Matrix - ', conf_matrix)\n",
    "        print('-' * 50)"
   ]
  },
  {
   "cell_type": "code",
   "execution_count": null,
   "metadata": {},
   "outputs": [],
   "source": []
  }
 ],
 "metadata": {
  "kernelspec": {
   "display_name": "fdm",
   "language": "python",
   "name": "python3"
  },
  "language_info": {
   "codemirror_mode": {
    "name": "ipython",
    "version": 3
   },
   "file_extension": ".py",
   "mimetype": "text/x-python",
   "name": "python",
   "nbconvert_exporter": "python",
   "pygments_lexer": "ipython3",
   "version": "3.12.8"
  }
 },
 "nbformat": 4,
 "nbformat_minor": 2
}
