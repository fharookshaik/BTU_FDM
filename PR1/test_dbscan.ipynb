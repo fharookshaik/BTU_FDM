{
 "cells": [
  {
   "cell_type": "code",
   "execution_count": 1,
   "metadata": {},
   "outputs": [],
   "source": [
    "import cv2\n",
    "import numpy as np\n",
    "import matplotlib.pyplot as plt\n",
    "from mpl_toolkits.mplot3d import Axes3D\n",
    "from sklearn.utils import check_array\n",
    "from collections import Counter"
   ]
  },
  {
   "cell_type": "code",
   "execution_count": 2,
   "metadata": {},
   "outputs": [],
   "source": [
    "# Loading an image (replace filename if you want):\n",
    "image_path = 'giraffe.png'\n",
    "image = cv2.imread(image_path)\n",
    "\n",
    "# Reducing the size of the image, so that DBSCAN runs in a reasonable amount of time:\n",
    "# small_image is 0.5x the size of the original. You may change this value.\n",
    "image = cv2.resize(image, None, fx=0.5, fy=0.5, interpolation=cv2.INTER_AREA)\n",
    "\n",
    "height, width, _ = image.shape\n",
    "pixel_data = image.reshape(-1, 3)"
   ]
  },
  {
   "cell_type": "code",
   "execution_count": 3,
   "metadata": {},
   "outputs": [
    {
     "data": {
      "text/plain": [
       "(26800, 3)"
      ]
     },
     "execution_count": 3,
     "metadata": {},
     "output_type": "execute_result"
    }
   ],
   "source": [
    "# DBSCAN\n",
    "# Setting hyperparameter(s):\n",
    "eps = 5\n",
    "min_pts = 30\n",
    "\n",
    "#Load data\n",
    "# data_points = np.random.randint(low=0, high=255, size=(1000,3))\n",
    "data_points = pixel_data\n",
    "data_points.shape"
   ]
  },
  {
   "cell_type": "code",
   "execution_count": 4,
   "metadata": {},
   "outputs": [],
   "source": [
    "def calculate_distance(point1, point2, metric='euclidean'):\n",
    "    if metric == 'euclidean':\n",
    "        # print(point1, point2)\n",
    "        return np.sqrt(np.sum((point1 - point2) ** 2))\n",
    "    elif metric == 'manhattan':\n",
    "        return np.sum(np.abs(point1 - point2))\n",
    "    else:\n",
    "        raise ValueError(f\"Unsupported metric: {metric}\")"
   ]
  },
  {
   "cell_type": "code",
   "execution_count": 5,
   "metadata": {},
   "outputs": [],
   "source": [
    "class KDTreeNode:\n",
    "    def __init__(self, index, left=None, right=None):\n",
    "        self.index = index\n",
    "        self.left = left\n",
    "        self.right = right\n",
    "\n",
    "class KDTree:\n",
    "    def __init__(self, data, metric='euclidean'):\n",
    "        self.data = data\n",
    "        self.root = self._build_tree(indices=np.arange(len(data)), depth=0)\n",
    "        self.metric = metric\n",
    "\n",
    "    def _build_tree(self, indices, depth):\n",
    "        if len(indices) == 0:\n",
    "            return None\n",
    "\n",
    "        k = self.data.shape[1]\n",
    "        axis = depth % k\n",
    "        sorted_indices = indices[np.argsort(self.data[indices, axis])]\n",
    "        median_index = len(sorted_indices) // 2\n",
    "\n",
    "        # print(axis)\n",
    "        # print(sorted_indices)\n",
    "        # print(median_index)\n",
    "\n",
    "        return KDTreeNode(\n",
    "            index= sorted_indices[median_index],\n",
    "            left=self._build_tree(sorted_indices[:median_index], depth+1),\n",
    "            right=self._build_tree(sorted_indices[median_index + 1 : ],depth+1)\n",
    "        )\n",
    "    \n",
    "    def query_radius(self, index, radius):\n",
    "        results = []\n",
    "        point = self.data[index]\n",
    "        self._query_radius(node=self.root, point=point, radius=radius, depth=0, results=results)\n",
    "        return results\n",
    "\n",
    "    def _query_radius(self, node, point, radius, depth, results):\n",
    "        if node is None:\n",
    "            return\n",
    "\n",
    "        k = self.data.shape[1]\n",
    "        axis = depth % k\n",
    "        node_point = self.data[node.index]\n",
    "\n",
    "        distance = calculate_distance(point, node_point, metric=self.metric)\n",
    "\n",
    "        if distance <= radius:\n",
    "            results.append(node.index)\n",
    "        \n",
    "        diff = point[axis] - node_point[axis]\n",
    "        if diff <= radius:\n",
    "            self._query_radius(node=node.left, point=point, radius=radius, depth=depth+1, results=results)\n",
    "        if diff >= -radius:\n",
    "            self._query_radius(node=node.right, point=point, radius=radius, depth=depth+1, results=results)\n",
    "    "
   ]
  },
  {
   "cell_type": "code",
   "execution_count": 6,
   "metadata": {},
   "outputs": [],
   "source": [
    "pixel_data = pixel_data.astype(np.float64)\n",
    "kdtree = KDTree(data=pixel_data)"
   ]
  },
  {
   "cell_type": "code",
   "execution_count": null,
   "metadata": {},
   "outputs": [],
   "source": [
    "for i in range(len(pixel_data)):\n",
    "    neighbours = kdtree.query_radius(index=i,radius=eps)\n",
    "    print(f'Neighbours for point {pixel_data[i]} at index {i}')\n",
    "    print(len(neighbours), neighbours)"
   ]
  },
  {
   "cell_type": "code",
   "execution_count": 8,
   "metadata": {},
   "outputs": [],
   "source": [
    "class KDTreeDBSCAN:\n",
    "    def __init__(self, eps, min_samples, metric='euclidean'):\n",
    "        self.eps = eps\n",
    "        self.min_samples = min_samples\n",
    "        self.metric = metric\n",
    "        self.labels = None\n",
    "    \n",
    "    def fit(self, X):\n",
    "        n = X.shape[0]\n",
    "        self.labels = np.full(n, -1) # Mark all points as noise\n",
    "        visited = np.zeros(n, dtype=bool)\n",
    "        cluster_id = 0\n",
    "\n",
    "        kdtree = KDTree(data=X, metric=self.metric)\n",
    "\n",
    "        for point_idx in range(n):\n",
    "            print(f'Exploring {point_idx}. Clusters so far: {Counter(self.labels)}')\n",
    "            if visited[point_idx]:\n",
    "                continue\n",
    "\n",
    "            visited[point_idx] = True\n",
    "            # neighbours = kdtree.query_radius([X[point_idx]], self.eps)\n",
    "            neighbours = kdtree.query_radius(point_idx, self.eps)\n",
    "            if len(neighbours) < self.min_samples:\n",
    "                self.labels[point_idx] = -1 # Mark as Noise\n",
    "            else:\n",
    "                self._expand_cluster(X=X, point_idx=point_idx, neighbours=neighbours, visited=visited, kdtree=kdtree, cluster_id=cluster_id)\n",
    "                cluster_id += 1\n",
    "            \n",
    "    def _expand_cluster(self, X, point_idx, neighbours, visited, kdtree, cluster_id):\n",
    "        self.labels[point_idx] = cluster_id\n",
    "        i=0\n",
    "        while i < len(neighbours):\n",
    "            neighbour_idx = neighbours[i]\n",
    "\n",
    "            if not visited[neighbour_idx]:\n",
    "                visited[neighbour_idx] = True\n",
    "                # new_neighbours = kdtree.query_radius([X[neighbour_idx]], self.eps)\n",
    "                new_neighbours = kdtree.query_radius(neighbour_idx, self.eps)\n",
    "                if len(new_neighbours) >= self.min_samples:\n",
    "                    neighbours = np.append(neighbours, new_neighbours)\n",
    "                \n",
    "                if self.labels[neighbour_idx] == -1:\n",
    "                    self.labels[neighbour_idx] = cluster_id\n",
    "\n",
    "            i+=1\n",
    "\n",
    "\n",
    "    def fit_predict(self, X):\n",
    "        self.fit(X)\n",
    "        return self.labels\n",
    "            "
   ]
  },
  {
   "cell_type": "code",
   "execution_count": null,
   "metadata": {},
   "outputs": [],
   "source": [
    "dbscan = KDTreeDBSCAN(eps=eps, min_samples=min_pts,metric='manhattan')\n",
    "dbscan_labels = dbscan.fit_predict(X=pixel_data)"
   ]
  },
  {
   "cell_type": "code",
   "execution_count": null,
   "metadata": {},
   "outputs": [],
   "source": [
    "Counter(dbscan_labels)"
   ]
  },
  {
   "cell_type": "code",
   "execution_count": null,
   "metadata": {},
   "outputs": [],
   "source": [
    "from sklearn.cluster import DBSCAN\n",
    "\n",
    "sklearn_dbscan = DBSCAN(eps=eps,min_samples=min_pts,metric='manhattan')\n",
    "Counter(sklearn_dbscan.fit_predict(X=pixel_data))"
   ]
  },
  {
   "cell_type": "code",
   "execution_count": null,
   "metadata": {},
   "outputs": [],
   "source": [
    "from sklearn.neighbors import KDTree as sklearnKDTree\n",
    "X = pixel_data\n",
    "\n",
    "# Using scikit-learn KDTree for comparison\n",
    "sklearn_tree = sklearnKDTree(X)\n",
    "sklearn_neighbors = sklearn_tree.query_radius([X[0]], eps)\n",
    "\n",
    "# Your KDTree\n",
    "kdtree = KDTree(data=X)\n",
    "custom_neighbors = kdtree.query_radius(0, eps)\n",
    "\n",
    "print(\"Scikit-learn neighbors:\", sklearn_neighbors)\n",
    "print(\"Custom KDTree neighbors:\", custom_neighbors)"
   ]
  },
  {
   "cell_type": "code",
   "execution_count": null,
   "metadata": {},
   "outputs": [],
   "source": [
    "sklearn_tree = sklearnKDTree(X)\n",
    "sklearn_neighbors = sklearn_tree.query_radius([X[0]], eps)\n",
    "\n",
    "# Your KDTree\n",
    "kdtree = KDTree(data=X)\n",
    "custom_neighbors = kdtree.query_radius(0, eps)\n",
    "\n",
    "print(\"Scikit-learn neighbors:\", sklearn_neighbors)\n",
    "print(\"Custom KDTree neighbors:\", custom_neighbors)"
   ]
  },
  {
   "cell_type": "code",
   "execution_count": null,
   "metadata": {},
   "outputs": [],
   "source": [
    "from scipy.spatial.distance import euclidean\n",
    "\n",
    "point1 = X[0].astype(np.float64)\n",
    "point2 = X[1].astype(np.float64)\n",
    "\n",
    "# Verify distance between two points\n",
    "print(\"Custom distance:\", calculate_distance(point1, point2, metric='euclidean'))\n",
    "print(\"Scikit-learn distance:\", euclidean(point1, point2))"
   ]
  },
  {
   "cell_type": "code",
   "execution_count": null,
   "metadata": {},
   "outputs": [],
   "source": [
    "X[0], X[1]"
   ]
  },
  {
   "cell_type": "code",
   "execution_count": null,
   "metadata": {},
   "outputs": [],
   "source": []
  },
  {
   "cell_type": "code",
   "execution_count": 19,
   "metadata": {},
   "outputs": [],
   "source": [
    "class BruteForceDBSCAN:\n",
    "    def __init__(self, eps, min_samples, metric='euclidean'):\n",
    "        self.eps = eps\n",
    "        self.min_samples = min_samples\n",
    "        self.metric = metric\n",
    "        self.labels = None\n",
    "    \n",
    "    def fit(self, X):\n",
    "        n = X.shape[0]\n",
    "        self.labels = np.full(n, -1)\n",
    "        cluster_id = 0\n",
    "        visited = np.zeros(n, dtype=bool)\n",
    "\n",
    "        for point_idx in range(n):\n",
    "            print(f'Exploring point at {point_idx}. Clusters so far: {Counter(self.labels)}')\n",
    "            if visited[point_idx]:\n",
    "                continue\n",
    "\n",
    "            visited[point_idx] = True\n",
    "            neighbours = self.region_query(X, point_idx)\n",
    "\n",
    "            if len(neighbours) <= self.min_samples:\n",
    "                self.labels[point_idx] = -1\n",
    "            else:\n",
    "                self._expand_cluster(X, point_idx, neighbours, cluster_id, visited)\n",
    "                cluster_id += 1\n",
    "\n",
    "    def _expand_cluster(self, X, point_idx, neighbours, cluster_id, visited):\n",
    "        self.labels[point_idx] = cluster_id\n",
    "\n",
    "        i = 0\n",
    "        while i< len(neighbours):\n",
    "            neighbour_idx = neighbours[i]\n",
    "\n",
    "            if not visited[neighbour_idx]:\n",
    "                visited[neighbour_idx] = True\n",
    "                new_neighbours = self.region_query(X, neighbour_idx)\n",
    "\n",
    "                if len(new_neighbours) >= self.min_samples:\n",
    "                    neighbours.extend(new_neighbours)\n",
    "            \n",
    "            if self.labels[neighbour_idx] == -1:\n",
    "                self.labels[neighbour_idx] = cluster_id\n",
    "\n",
    "            i+=1\n",
    "        \n",
    "\n",
    "    def region_query(self, X, point_idx):\n",
    "        neighbours = []\n",
    "        for idx, point in enumerate(X):\n",
    "            if calculate_distance(X[point_idx], point) <= self.eps:\n",
    "                neighbours.append(idx)\n",
    "        \n",
    "        return neighbours\n",
    "\n",
    "    def fit_predict(self, X):\n",
    "        self.fit(X)\n",
    "        return self.labels\n"
   ]
  },
  {
   "cell_type": "code",
   "execution_count": null,
   "metadata": {},
   "outputs": [],
   "source": [
    "brute_dbscan = BruteForceDBSCAN(eps=eps, min_samples=min_pts)\n",
    "brute_dbscan_labels = brute_dbscan.fit_predict(X=pixel_data)"
   ]
  },
  {
   "cell_type": "code",
   "execution_count": null,
   "metadata": {},
   "outputs": [],
   "source": [
    "Counter(brute_dbscan_labels)"
   ]
  },
  {
   "cell_type": "code",
   "execution_count": null,
   "metadata": {},
   "outputs": [],
   "source": [
    "Counter(dbscan.fit_predict(X=pixel_data))"
   ]
  },
  {
   "cell_type": "code",
   "execution_count": null,
   "metadata": {},
   "outputs": [],
   "source": []
  },
  {
   "cell_type": "code",
   "execution_count": 13,
   "metadata": {},
   "outputs": [],
   "source": [
    "class HbridDBSCAN:\n",
    "    def __init__(self, eps, min_samples, use_kdtree=True, metric='euclidean'):\n",
    "        self.eps = eps\n",
    "        self.min_samples = min_samples\n",
    "        self.use_kdtree = use_kdtree\n",
    "        self.metric = metric\n",
    "        self.labels = None\n",
    "    \n",
    "    def fit(self, X):\n",
    "        n = X.shape[0]\n",
    "        self.labels = np.full(n, -1)\n",
    "        visited = np.zeros(n, dtype=bool)\n",
    "        cluster_id = 0\n",
    "        kdtree = None\n",
    "\n",
    "        if self.use_kdtree:\n",
    "            kdtree = KDTree(X, metric=self.metric)\n",
    "        \n",
    "        for point_idx in range(n):\n",
    "            if visited[point_idx]:\n",
    "                continue\n",
    "            \n",
    "            visited[point_idx] = True\n",
    "            if self.use_kdtree:\n",
    "                neighbours = kdtree.query_radius(index=point_idx, radius=self.eps)\n",
    "            else:\n",
    "                neighbours = self._brute_region_query(X=X, point_idx=point_idx)\n",
    "            \n",
    "            if len(neighbours) < self.min_samples:\n",
    "                self.labels[point_idx] = -1\n",
    "            \n",
    "            else:\n",
    "                self._expand_cluster(X=X, point_idx=point_idx,neighbours=neighbours, visited=visited, cluster_id=cluster_id,kdtree=kdtree)\n",
    "                cluster_id += 1\n",
    "    \n",
    "    def _brute_region_query(self, X, point_idx):\n",
    "        neighbours = []\n",
    "        for idx, point in enumerate(X):\n",
    "            if calculate_distance(X[point_idx], point) <= self.eps:\n",
    "                neighbours.append(idx)\n",
    "\n",
    "        return neighbours\n",
    "    \n",
    "    def _expand_cluster(self, X, point_idx, neighbours, cluster_id, visited, kdtree):\n",
    "        self.labels[point_idx] = cluster_id\n",
    "        i=0\n",
    "        while i < len(neighbours):\n",
    "            neighbour_idx = neighbours[i]\n",
    "\n",
    "            if not visited[neighbour_idx]:\n",
    "                visited[neighbour_idx] = True\n",
    "                if self.use_kdtree:\n",
    "                    new_neighbours = kdtree.query_radius(index=neighbour_idx, radius=self.eps)\n",
    "                else:\n",
    "                    new_neighbours = self._brute_region_query(X, neighbour_idx)\n",
    "                \n",
    "                if len(new_neighbours) >= self.min_samples:\n",
    "                    neighbours = np.append(neighbours, new_neighbours)\n",
    "            \n",
    "            if self.labels[neighbour_idx] == -1:\n",
    "                self.labels[neighbour_idx] = cluster_id\n",
    "\n",
    "            i += 1\n",
    "\n",
    "    def fit_predict(self, X):\n",
    "        self.fit(X)\n",
    "        return self.labels\n"
   ]
  },
  {
   "cell_type": "code",
   "execution_count": 18,
   "metadata": {},
   "outputs": [],
   "source": [
    "hdbscan = HbridDBSCAN(eps=eps,min_samples=min_pts,use_kdtree=False)\n",
    "hdbscan_labels = hdbscan.fit_predict(X=pixel_data[:10000])"
   ]
  },
  {
   "cell_type": "code",
   "execution_count": 17,
   "metadata": {},
   "outputs": [
    {
     "data": {
      "text/plain": [
       "Counter({0: 5258, -1: 3918, 3: 701, 2: 50, 1: 42, 4: 31})"
      ]
     },
     "execution_count": 17,
     "metadata": {},
     "output_type": "execute_result"
    }
   ],
   "source": [
    "Counter(hdbscan_labels)"
   ]
  },
  {
   "cell_type": "code",
   "execution_count": 19,
   "metadata": {},
   "outputs": [
    {
     "data": {
      "text/plain": [
       "Counter({0: 5258, -1: 3918, 3: 701, 2: 50, 1: 42, 4: 31})"
      ]
     },
     "execution_count": 19,
     "metadata": {},
     "output_type": "execute_result"
    }
   ],
   "source": [
    "Counter(hdbscan_labels)"
   ]
  }
 ],
 "metadata": {
  "kernelspec": {
   "display_name": "fdm",
   "language": "python",
   "name": "python3"
  },
  "language_info": {
   "codemirror_mode": {
    "name": "ipython",
    "version": 3
   },
   "file_extension": ".py",
   "mimetype": "text/x-python",
   "name": "python",
   "nbconvert_exporter": "python",
   "pygments_lexer": "ipython3",
   "version": "3.12.8"
  }
 },
 "nbformat": 4,
 "nbformat_minor": 2
}
